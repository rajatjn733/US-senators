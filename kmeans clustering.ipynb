{
 "cells": [
  {
   "cell_type": "code",
   "execution_count": 6,
   "metadata": {},
   "outputs": [
    {
     "name": "stdout",
     "output_type": "stream",
     "text": [
      "(100, 18)\n",
      "1.0    803\n",
      "0.0    669\n",
      "0.5     28\n",
      "dtype: int64\n"
     ]
    }
   ],
   "source": [
    "import pandas as pd\n",
    "# Read in the CSV file and analyse the data.\n",
    "votes = pd.read_csv(\"114_congress.csv\")\n",
    "print(votes.shape)\n",
    "print(pd.value_counts(votes.iloc[:,3:].values.ravel()))"
   ]
  },
  {
   "cell_type": "code",
   "execution_count": 14,
   "metadata": {},
   "outputs": [
    {
     "name": "stdout",
     "output_type": "stream",
     "text": [
      "party   D  I   R\n",
      "row_0           \n",
      "0      41  2   0\n",
      "1       3  0  54\n"
     ]
    }
   ],
   "source": [
    "from sklearn.cluster import KMeans\n",
    "#The KMeans learn algorithm is implemented in the scikit-learn library\n",
    "#Create a KMeans learn model on our data using two clusters at first.\n",
    "kmeans_model = KMeans(n_clusters=2, random_state=1)\n",
    "#Features dataframe to train the model\n",
    "features = votes.iloc[:, 3:]\n",
    "#Train the model\n",
    "kmeans_model.fit(features)\n",
    "#These are our fitted labels for clusters -- first cluster has label 0 and second has label 1\n",
    "labels = kmeans_model.labels_\n",
    "print(pd.crosstab(labels, votes[\"party\"]))"
   ]
  },
  {
   "cell_type": "code",
   "execution_count": 27,
   "metadata": {},
   "outputs": [
    {
     "name": "stdout",
     "output_type": "stream",
     "text": [
      "        name party state  00001  00004  00005  00006  00007  00008  00009  \\\n",
      "42  Heitkamp     D    ND    0.0    1.0    0.0    1.0    0.0    0.0    1.0   \n",
      "56   Manchin     D    WV    0.0    1.0    0.0    1.0    0.0    0.0    1.0   \n",
      "74      Reid     D    NV    0.5    0.5    0.5    0.5    0.5    0.5    0.5   \n",
      "\n",
      "    00010  00020  00026  00032  00038  00039  00044  00047  labels  label  \n",
      "42    1.0    0.0    0.0    0.0    1.0    0.0    0.0    0.0       1      1  \n",
      "56    1.0    1.0    0.0    0.0    1.0    1.0    0.0    0.0       1      1  \n",
      "74    0.5    0.5    0.5    0.5    0.5    0.5    0.5    0.5       1      1  \n"
     ]
    }
   ],
   "source": [
    "#Let's explore people in the wrong cluster\n",
    "votes[\"label\"] = labels\n",
    "print(votes[(labels == 1) & (votes[\"party\"] == \"D\")])"
   ]
  },
  {
   "cell_type": "markdown",
   "metadata": {},
   "source": [
    "Reid has abstained a lot which has changed his cluster and Manchin and Heitkamp are genuinly unconventional from their parties."
   ]
  },
  {
   "cell_type": "markdown",
   "metadata": {},
   "source": [
    "Let's explore our clusters little bit more by plotting them out.\n",
    "This dataset has 15 feature columns and each column can be used as dimension. Since we can't use 15 dimension and don't want to drop any column, therefore, we'll use principal component analysis to reduce these features into two feature columns."
   ]
  },
  {
   "cell_type": "code",
   "execution_count": 29,
   "metadata": {},
   "outputs": [
    {
     "data": {
      "image/png": "[encoded data removed]",
      "text/plain": [
       "<matplotlib.figure.Figure at 0xbe03518>"
      ]
     },
     "metadata": {},
     "output_type": "display_data"
    }
   ],
   "source": [
    "import matplotlib.pyplot as plt\n",
    "from sklearn.decomposition import PCA\n",
    "pca_2 = PCA(2)\n",
    "#Turn the vote data into two columns with PCA\n",
    "plot_columns = pca_2.fit_transform(votes.iloc[:,3:])\n",
    "#Plot senators based on two dimensions, and shade by cluster label\n",
    "plt.scatter(x=plot_columns[:,0], y=plot_columns[:,1], c=votes[\"label\"])\n",
    "plt.show()"
   ]
  },
  {
   "cell_type": "code",
   "execution_count": null,
   "metadata": {
    "collapsed": true
   },
   "outputs": [],
   "source": []
  },
  {
   "cell_type": "code",
   "execution_count": null,
   "metadata": {
    "collapsed": true
   },
   "outputs": [],
   "source": []
  }
 ],
 "metadata": {
  "kernelspec": {
   "display_name": "Python 3",
   "language": "python",
   "name": "python3"
  },
  "language_info": {
   "codemirror_mode": {
    "name": "ipython",
    "version": 3
   },
   "file_extension": ".py",
   "mimetype": "text/x-python",
   "name": "python",
   "nbconvert_exporter": "python",
   "pygments_lexer": "ipython3",
   "version": "3.6.1"
  }
 },
 "nbformat": 4,
 "nbformat_minor": 2
}
